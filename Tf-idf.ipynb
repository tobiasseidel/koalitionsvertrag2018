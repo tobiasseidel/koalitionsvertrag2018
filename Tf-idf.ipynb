{
 "cells": [
  {
   "cell_type": "code",
   "execution_count": 101,
   "metadata": {
    "collapsed": true
   },
   "outputs": [],
   "source": [
    "import pandas as pd\n",
    "import requests\n",
    "import re\n",
    "import numpy as np\n",
    "    \n",
    "def LoadTXTnSplit(url,regx='\\|| \\| |--|==',repl=[[\"\\n\\n\",\"|\"],[\"\\n\",\" \"]]):\n",
    "    r = requests.get(url)\n",
    "    T=r.text\n",
    "    for ri in repl:\n",
    "        T=T.replace(ri[0],ri[1])\n",
    "    return pd.Series(re.split(regx,T))\n",
    "    #T.replace(\"\\n\\n\",\"|\").replace(\"\\n\",\" \"))\n",
    "\n",
    "K=LoadTXTnSplit(\"https://raw.githubusercontent.com/tobiasseidel/koalitionsvertrag2018/master/koalitionsvertrag2018.md\")\n",
    "K=K[K!=\"\"]\n",
    "S=LoadTXTnSplit(\"https://raw.githubusercontent.com/nicmer/analysis-zeitonline/master/electoralprograms/spd.txt\")\n",
    "U=LoadTXTnSplit(\"https://raw.githubusercontent.com/nicmer/analysis-zeitonline/master/electoralprograms/union.txt\")\n",
    "H=LoadTXTnSplit(\"http://pcai056.informatik.uni-leipzig.de/downloads/etc/legacy/Papers/top1000de.txt\")\n",
    "# K =?= ( S + U ) / 2 ?"
   ]
  },
  {
   "cell_type": "markdown",
   "metadata": {},
   "source": [
    "## Analyse der Eingangstexte\n",
    "### Zeichen pro Absatz"
   ]
  },
  {
   "cell_type": "code",
   "execution_count": 69,
   "metadata": {
    "collapsed": false
   },
   "outputs": [
    {
     "name": "stdout",
     "output_type": "stream",
     "text": [
      "Koalitionsvertrag\n",
      "##Summe Zeichen 511575\n",
      "##Zeichen/Absatz:\n",
      "count    1743\n",
      "mean      293\n",
      "std       252\n",
      "min         1\n",
      "25%        99\n",
      "50%       242\n",
      "75%       404\n",
      "max      1864\n",
      "dtype: int64\n",
      "\n",
      "SPD\n",
      "##Summe Zeichen 289869\n",
      "##Zeichen/Absatz:\n",
      "count     687\n",
      "mean      421\n",
      "std       300\n",
      "min         9\n",
      "25%       198\n",
      "50%       394\n",
      "75%       600\n",
      "max      2252\n",
      "dtype: int64\n",
      "\n",
      "Union\n",
      "##Summe Zeichen 148150\n",
      "##Zeichen/Absatz:\n",
      "count     276\n",
      "mean      536\n",
      "std       804\n",
      "min         0\n",
      "25%        49\n",
      "50%       301\n",
      "75%       622\n",
      "max      5959\n",
      "dtype: int64\n",
      "\n"
     ]
    }
   ],
   "source": [
    "Vergleich=[['Koalitionsvertrag', K],['SPD', S],['Union', U]]\n",
    "for N,X in Vergleich:\n",
    "    print(N)\n",
    "    txtLaenge=X.map(len)\n",
    "    print(\"##Summe Zeichen \"+str(sum(txtLaenge))+\"\\n##Zeichen/Absatz:\")\n",
    "    print(str(txtLaenge.describe().map(int))+\"\\n\") # Texte haben alle etwa die gleiche Länge (pro Absatz)\n"
   ]
  },
  {
   "cell_type": "markdown",
   "metadata": {},
   "source": [
    "### Wortlänge"
   ]
  },
  {
   "cell_type": "code",
   "execution_count": 103,
   "metadata": {
    "collapsed": false
   },
   "outputs": [
    {
     "name": "stdout",
     "output_type": "stream",
     "text": [
      "Koalitionsvertrag\n",
      "count    63878.000000\n",
      "mean         6.907746\n",
      "std          4.956456\n",
      "min          0.000000\n",
      "25%          3.000000\n",
      "50%          6.000000\n",
      "75%         10.000000\n",
      "max         41.000000\n",
      "dtype: float64\n",
      "\n",
      "SPD\n",
      "count    36762.000000\n",
      "mean         6.772292\n",
      "std          4.525831\n",
      "min          0.000000\n",
      "25%          3.000000\n",
      "50%          6.000000\n",
      "75%          9.000000\n",
      "max         36.000000\n",
      "dtype: float64\n",
      "\n",
      "Union\n",
      "count    19723.000000\n",
      "mean         6.383055\n",
      "std          4.254927\n",
      "min          0.000000\n",
      "25%          3.000000\n",
      "50%          5.000000\n",
      "75%          9.000000\n",
      "max         30.000000\n",
      "dtype: float64\n",
      "\n"
     ]
    }
   ],
   "source": [
    "haeufig=H.str.split(\" \",expand=True).stack()\n",
    "for N,X in Vergleich:    \n",
    "    print(N)\n",
    "    Woerter = X.str.split(\" \",expand=True).stack().map(lambda x: x.strip(\" ()-.,\\\"#„—–\"))\n",
    "    WortLaenge=Woerter.map(len)\n",
    "    print(str(WortLaenge.describe())+\"\\n\")"
   ]
  },
  {
   "cell_type": "markdown",
   "metadata": {},
   "source": [
    "### 20 häufigste Wörter (abgesehen von den 50 häufigsten Wörtern der dt. Sprache)"
   ]
  },
  {
   "cell_type": "code",
   "execution_count": 144,
   "metadata": {
    "collapsed": false
   },
   "outputs": [
    {
     "name": "stdout",
     "output_type": "stream",
     "text": [
      "###Koalitionsvertrag###\n",
      "             txt  count\n",
      "0                  2127\n",
      "1            wir   2104\n",
      "2         wollen    905\n",
      "3            zur    382\n",
      "4          sowie    223\n",
      "5        stärken    215\n",
      "6           dass    196\n",
      "7    deutschland    191\n",
      "8          durch    187\n",
      "9            uns    177\n",
      "10  insbesondere    162\n",
      "11  unterstützen    144\n",
      "12          dazu    137\n",
      "13         dabei    127\n",
      "14       fördern    115\n",
      "15        können    114\n",
      "16      menschen    112\n",
      "17        weiter    110\n",
      "18      schaffen    110\n",
      "19          mehr    108\n",
      "Vokabular-Größe: 11132\n",
      "###SPD###\n",
      "             txt  count\n",
      "0            wir   1119\n",
      "1         wollen    377\n",
      "2                   242\n",
      "3           dass    187\n",
      "4         können    134\n",
      "5            uns    133\n",
      "6           mehr    130\n",
      "7       menschen    128\n",
      "8           muss    122\n",
      "9          durch    119\n",
      "10        müssen    111\n",
      "11           zur    105\n",
      "12         dafür     98\n",
      "13   deutschland     97\n",
      "14          alle     94\n",
      "15          ihre     87\n",
      "16        sollen     86\n",
      "17          oder     84\n",
      "18       deshalb     84\n",
      "19  unterstützen     77\n",
      "Vokabular-Größe: 7295\n",
      "###Union###\n",
      "            txt  count\n",
      "0           wir    618\n",
      "1                  428\n",
      "2        wollen    157\n",
      "3   deutschland    145\n",
      "4          dass    101\n",
      "5         durch     84\n",
      "6      menschen     82\n",
      "7       deshalb     64\n",
      "8           uns     63\n",
      "9           zur     62\n",
      "10       können     61\n",
      "11       unsere     57\n",
      "12         mehr     56\n",
      "13      unserer     54\n",
      "14         land     48\n",
      "15        unser     46\n",
      "16         alle     43\n",
      "17        damit     43\n",
      "18         soll     42\n",
      "19         dazu     42\n",
      "Vokabular-Größe: 4399\n"
     ]
    }
   ],
   "source": [
    "def WoerterVergleichbar(txt):\n",
    "    return txt.strip(\" ()-.,\\\"#„—–•\").lower()\n",
    "\n",
    "for N,X in Vergleich:    \n",
    "    print(\"###\"+N+\"###\")\n",
    "    Woerter = X.str.split(\" \",expand=True).stack().map(WoerterVergleichbar)\n",
    "    nichtHaeufig=Woerter[np.logical_not(Woerter.isin(haeufig[0:50]))]\n",
    "    W=nichtHaeufig.groupby(nichtHaeufig.tolist()).size().reset_index().rename(columns={0:'count', 'index':'txt'})\n",
    "    print(W.sort_values(by=\"count\",ascending=False).reset_index(drop=True)[0:20])\n",
    "    print(\"Vokabular-Größe: \"+str(W.shape[0]+50))"
   ]
  },
  {
   "cell_type": "markdown",
   "metadata": {},
   "source": [
    "### Tf-idf Vergleich"
   ]
  },
  {
   "cell_type": "code",
   "execution_count": 281,
   "metadata": {
    "collapsed": false
   },
   "outputs": [],
   "source": [
    "def compareTfIdf(Txt1,Txt2):\n",
    "    from sklearn.feature_extraction.text import TfidfVectorizer\n",
    "    Tfidf = TfidfVectorizer().fit_transform(pd.concat([Txt1,Txt2]))\n",
    "    pairwise_similarity = Tfidf * Tfidf.T\n",
    "    return pairwise_similarity[0:len(Txt1),len(Txt1):] # top right sub-matrix\n",
    "KSMat=compareTfIdf(K,S)\n",
    "KS=pd.DataFrame(np.argmax(KSMat.todense(),axis=1))\n",
    "KUMat=compareTfIdf(K,U)\n",
    "KU=pd.DataFrame(np.argmax(KUMat.todense(),axis=1))"
   ]
  },
  {
   "cell_type": "code",
   "execution_count": 282,
   "metadata": {
    "collapsed": false
   },
   "outputs": [
    {
     "data": {
      "text/html": [
       "<div>\n",
       "<table border=\"1\" class=\"dataframe\">\n",
       "  <thead>\n",
       "    <tr style=\"text-align: right;\">\n",
       "      <th></th>\n",
       "      <th>0</th>\n",
       "    </tr>\n",
       "  </thead>\n",
       "  <tbody>\n",
       "    <tr>\n",
       "      <th>0</th>\n",
       "      <td>0</td>\n",
       "    </tr>\n",
       "    <tr>\n",
       "      <th>1</th>\n",
       "      <td>239</td>\n",
       "    </tr>\n",
       "    <tr>\n",
       "      <th>2</th>\n",
       "      <td>16</td>\n",
       "    </tr>\n",
       "    <tr>\n",
       "      <th>3</th>\n",
       "      <td>0</td>\n",
       "    </tr>\n",
       "    <tr>\n",
       "      <th>4</th>\n",
       "      <td>0</td>\n",
       "    </tr>\n",
       "    <tr>\n",
       "      <th>5</th>\n",
       "      <td>600</td>\n",
       "    </tr>\n",
       "    <tr>\n",
       "      <th>6</th>\n",
       "      <td>10</td>\n",
       "    </tr>\n",
       "    <tr>\n",
       "      <th>7</th>\n",
       "      <td>45</td>\n",
       "    </tr>\n",
       "    <tr>\n",
       "      <th>8</th>\n",
       "      <td>7</td>\n",
       "    </tr>\n",
       "    <tr>\n",
       "      <th>9</th>\n",
       "      <td>9</td>\n",
       "    </tr>\n",
       "  </tbody>\n",
       "</table>\n",
       "</div>"
      ],
      "text/plain": [
       "     0\n",
       "0    0\n",
       "1  239\n",
       "2   16\n",
       "3    0\n",
       "4    0\n",
       "5  600\n",
       "6   10\n",
       "7   45\n",
       "8    7\n",
       "9    9"
      ]
     },
     "execution_count": 282,
     "metadata": {},
     "output_type": "execute_result"
    }
   ],
   "source": [
    "KS[0:10]"
   ]
  },
  {
   "cell_type": "code",
   "execution_count": 283,
   "metadata": {
    "collapsed": false
   },
   "outputs": [
    {
     "data": {
      "text/plain": [
       "'Wir erleben neue politische Zeiten mit vielfältigen Herausforderungen für Deutschland — sowohl international als auch national. Deutschland ist weltweit ein anerkannter Partner, aber nur mit einem neuen Aufbruch für Europa wird Deutschland langfristig Frieden, Sicherheit und Wohlstand garantieren können. Die Europäische Union muss ihre Werte und ihr Wohlstandsversprechen bewahren und erneuern. Nur eine starke Europäische Union ist der Garant für eine Zukunft in Frieden, Sicherheit und Wohlstand.'"
      ]
     },
     "execution_count": 283,
     "metadata": {},
     "output_type": "execute_result"
    }
   ],
   "source": [
    "K[10]"
   ]
  },
  {
   "cell_type": "code",
   "execution_count": 286,
   "metadata": {
    "collapsed": false
   },
   "outputs": [
    {
     "data": {
      "text/plain": [
       "'- Die besten Schulen. Mit unserem Schulmodernisierungsprogramm sorgen wir für gut ausgerüstete Klassenzimmer, digitale Bildung und modernste Ausstattung. Mit unserem Berufsschulpakt gehen wir die dringend notwendige Modernisierung der Berufsschulen an. - Kinderbetreuung: Wir sorgen für ein besseres Angebot an Krippen, Kitas, Kindertagespflege, Horten und Ganztagsschulen. Die Kita-Gebühren schaffen wir ab. - Investitionen in Fachkräfte: Wir machen Bildung und Ausbildung gebührenfrei – die Ausbildung ebenso wie das Erststudium bis zum Master und zur Meister- und Technikerprüfung. - Neue und bezahlbare Wohnungen. Wir werden den öffentlichen und sozialen Wohnungsbau ausbauen. Den Erwerb von Wohneigentum für Familien mit niedrigen und mittleren Einkommen werden wir durch ein Familienbaugeld erleichtern. - Moderne Verkehrswege. Wir wollen moderne Straßen, Schienen, Wasserstraßen und Luftverkehr, die eine digitale, schadstoffarme und sichere Mobilität für alle ermöglichen – egal ob in der Stadt oder auf dem Land. - Schnelles Internet für alle. Im Jahr 2025 wollen wir eine der modernsten digitalen Infrastrukturen flächendeckend haben, um die digitale Spaltung zwischen städtischen Ballungszentren und ländlichen Räumen zu überwinden. - Investitionen in Innovationen. Mit unserem „Forschungsbonus\" für Unternehmen, verbesserten Abschreibungsmöglichkeiten für Forschungs- und Entwicklungsausgaben und einer guten Finanzierung der Wissenschafts- und Hochschulpakte fördern wir neue Ideen. - Zusammenhalt jetzt und in Zukunft. Wir fördern wichtige Programme wie „Soziale Stadt\" oder „Demokratie leben\", die Stadtentwicklung, Sicherheit, Stärkung unserer Demokratie, Engagement und Hilfe für Jung und Alt verbinden. Das dient dem sozialen Zusammenhalt. - Energieeffizienz als Beitrag für den Klimaschutz. Wir werden Deutschland zur energieeffizientesten Volkswirtschaft der Welt machen. Wir wollen den öffentlichen Gebäudebestand und den öffentlichen Nahverkehr zu Vorbildern des nachhaltigen und energieeffizienten Verbrauchs entwickeln. - Sicherheit durch starke und bürgernahe Polizei. Wir sorgen dafür, dass unsere Sicherheitsbehörden gut aufgestellt sind. Dafür schaffen wir zusätzliche 15.000 Stellen und sorgen für eine moderne Ausstattung.'"
      ]
     },
     "execution_count": 286,
     "metadata": {},
     "output_type": "execute_result"
    }
   ],
   "source": [
    "S[KS.iloc[10][0]]"
   ]
  },
  {
   "cell_type": "code",
   "execution_count": 287,
   "metadata": {
    "collapsed": false
   },
   "outputs": [
    {
     "data": {
      "text/plain": [
       "'- Unser Wohlstand und unsere Lebensqualität hängen wesentlich vom stetigen und nachhaltigen Wachstum unserer Wirtschaft ab. Sie muss international wettbewerbsfähig bleiben, ihre Fähigkeit zur Innovation ausbauen und ausreichend neue Arbeitsplätze schaffen. Auch und gerade im digitalen Zeitalter und im Zeitalter der Globalisierung. - Klimaschutz und Schutz der natürlichen Lebensgrundlagen sind existenziell wichtig. Weltweit wachsen Bevölkerung und Wohlstand. Dadurch steigen der Verbrauch an Rohstoffen und der Ausstoß von CO2 Wir müssen beweisen, dass intakte Umwelt, Wachstum und Wohlstand keine Gegensätze, sondern zwei Seiten derselben Medaille sind. Deshalb geht Europa beim Klimaschutz und Umweltschutz voran, deshalb stehen wir zum weltweiten Klima-Abkommen von Paris. - Sicherheit und Stabilität sind Voraussetzung für jede Art von gutem Leben und wirtschaftlichen Erfolg. CDU und CSU sind die Parteien der inneren Sicherheit. Nur ein handlungsfähiger Staat kann für Freiheit und Sicherheit sorgen. Wir stehen hinter der Arbeit von Polizei, Nachrichtendiensten, Sicherheitsbehörden und der Bundeswehr. Wir stehen zu unserer Verantwortung im Rahmen von UNO, NATO und EU. Wir sind Teil der internationalen Allianz im weltweiten Kampf gegen den Terrorismus, Organisierte Kriminalität, Drogenhandel und gegen neue Bedrohungen im Internet. Wir bekämpfen Fluchtursachen und tragen durch Entwicklungspolitik und zivile Krisenprävention dazu bei, dass Menschen in ihrer Heimat Zukunfts- und Bleibeperspektiven haben. - Wir bekämpfen jede Art von Protektionismus und treten für internationale Handelsabkommen und Zusammenarbeit ein. Die moderne globalisierte Welt, in der wir leben, verträgt sich weder mit Abschottung oder außenpolitischer Isolation noch mit einer Politik, die nur das scheinbar eigene nationale Interesse in den Vordergrund stellt. - In der Sozialen Marktwirtschaft setzen wir auf die Kraft und die Kreativität des Einzelnen, von Arbeitnehmern und Unternehmern. Wir setzen auf Aufstiegschancen für alle, die bereit sind, dafür ihren Beitrag zu leisten. Aber wir wissen auch, dass Solidarität und soziale Gerechtigkeit unverzichtbar sind. Wir lassen niemanden zurück und wollen möglichst Vielen eine Chance zu Teilhabe und eigenverantwortlicher Lebensgestaltung geben. Das ist unser europäisches Sozialmodell, für das wir auch weltweit werben und eintreten. - Wir wollen die Mitte unserer Gesellschaft und den Zusammenhalt in unserem Land stärken. Dafür setzen wir auf Familien und Kinder, Mittelstand und Handwerk, Ehrenamt und bürgerschaftliches Engagement auch in Zukunft.'"
      ]
     },
     "execution_count": 287,
     "metadata": {},
     "output_type": "execute_result"
    }
   ],
   "source": [
    "U[KU.iloc[10][0]]"
   ]
  },
  {
   "cell_type": "markdown",
   "metadata": {},
   "source": [
    "... hm .. funktioniert noch nicht so gut"
   ]
  },
  {
   "cell_type": "code",
   "execution_count": null,
   "metadata": {
    "collapsed": true
   },
   "outputs": [],
   "source": []
  }
 ],
 "metadata": {
  "kernelspec": {
   "display_name": "Python [conda root]",
   "language": "python",
   "name": "conda-root-py"
  },
  "language_info": {
   "codemirror_mode": {
    "name": "ipython",
    "version": 3
   },
   "file_extension": ".py",
   "mimetype": "text/x-python",
   "name": "python",
   "nbconvert_exporter": "python",
   "pygments_lexer": "ipython3",
   "version": "3.5.2"
  }
 },
 "nbformat": 4,
 "nbformat_minor": 1
}
